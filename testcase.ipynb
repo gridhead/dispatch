{
 "cells": [
  {
   "cell_type": "code",
   "execution_count": 17,
   "metadata": {
    "pycharm": {
     "name": "#%%\n"
    }
   },
   "outputs": [
    {
     "name": "stdin",
     "output_type": "stream",
     "text": [
      "Enter the filename  README.md\n"
     ]
    },
    {
     "name": "stdout",
     "output_type": "stream",
     "text": [
      "Successful\n"
     ]
    }
   ],
   "source": [
    "import requests\n",
    "\n",
    "targetpc = \"http://localhost:9696/recvarch/\"\n",
    "\n",
    "targetpc = \"http://[2409:4042:2396:2f42:9387:22e4:aa39:af0e]:9696/recvarch/\"\n",
    "\n",
    "def sendarch(filename):\n",
    "    files = {'files': open(filename, 'rb')}\n",
    "    r = requests.post(targetpc, files=files)\n",
    "    print(r.text)\n",
    "\n",
    "if __name__ == \"__main__\":\n",
    "    filename = str(input(\"Enter the filename \"))\n",
    "    sendarch(filename)\n"
   ]
  }
 ],
 "metadata": {
  "kernelspec": {
   "display_name": "Python 3",
   "language": "python",
   "name": "python3"
  },
  "language_info": {
   "codemirror_mode": {
    "name": "ipython",
    "version": 3
   },
   "file_extension": ".py",
   "mimetype": "text/x-python",
   "name": "python",
   "nbconvert_exporter": "python",
   "pygments_lexer": "ipython3",
   "version": "3.8.2"
  }
 },
 "nbformat": 4,
 "nbformat_minor": 4
}